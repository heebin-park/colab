{
  "nbformat": 4,
  "nbformat_minor": 0,
  "metadata": {
    "colab": {
      "provenance": [],
      "collapsed_sections": [],
      "authorship_tag": "ABX9TyMOsvxwefB9gtQQ+4KcdPJ5",
      "include_colab_link": true
    },
    "kernelspec": {
      "name": "python3",
      "display_name": "Python 3"
    },
    "language_info": {
      "name": "python"
    }
  },
  "cells": [
    {
      "cell_type": "markdown",
      "metadata": {
        "id": "view-in-github",
        "colab_type": "text"
      },
      "source": [
        "<a href=\"https://colab.research.google.com/github/heebin-park/colab_fork/blob/main/AND%2C_OR%2C_NAND%2C_XOR_0726.ipynb\" target=\"_parent\"><img src=\"https://colab.research.google.com/assets/colab-badge.svg\" alt=\"Open In Colab\"/></a>"
      ]
    },
    {
      "cell_type": "code",
      "execution_count": null,
      "metadata": {
        "id": "blN5h7rSGe2i"
      },
      "outputs": [],
      "source": [
        "import numpy as np"
      ]
    },
    {
      "cell_type": "code",
      "source": [
        "def AND(x1, x2):\n",
        "    x=np.array([x1, x2])\n",
        "    w=np.array([0.5, 0.5])\n",
        "    b=-0.7\n",
        "    temp=np.sum(w*x)+b\n",
        "\n",
        "    if temp>0:\n",
        "        return 1\n",
        "    else:\n",
        "        return 0"
      ],
      "metadata": {
        "id": "X_Ch1Dd1L7VN"
      },
      "execution_count": null,
      "outputs": []
    },
    {
      "cell_type": "code",
      "source": [
        "print(AND(0,0))\n",
        "print(AND(1,0))\n",
        "print(AND(0,0))\n",
        "print(AND(1,1))"
      ],
      "metadata": {
        "colab": {
          "base_uri": "https://localhost:8080/"
        },
        "id": "rxcokYFBNmVK",
        "outputId": "3f052ce0-266a-4794-cf90-83ed1927b1b5"
      },
      "execution_count": null,
      "outputs": [
        {
          "output_type": "stream",
          "name": "stdout",
          "text": [
            "0\n",
            "0\n",
            "0\n",
            "1\n"
          ]
        }
      ]
    },
    {
      "cell_type": "code",
      "source": [
        "def NAND1(x1, x2):#-x+2y-3<0\n",
        "    x=np.array([x1, x2])\n",
        "    w=np.array([1, -2])\n",
        "    b=3\n",
        "    temp=np.sum(w*x)+b\n",
        "\n",
        "    if temp>0:\n",
        "        return 1\n",
        "    else:\n",
        "        return 0"
      ],
      "metadata": {
        "id": "lVscuca-Nzl9"
      },
      "execution_count": null,
      "outputs": []
    },
    {
      "cell_type": "code",
      "source": [
        "print(NAND1(0,0))\n",
        "print(NAND1(1,0))\n",
        "print(NAND1(0,1))\n",
        "print(NAND1(1,1))"
      ],
      "metadata": {
        "colab": {
          "base_uri": "https://localhost:8080/"
        },
        "id": "Tk5byrQfROzg",
        "outputId": "a43ba656-e76e-41ca-9775-3c01df81ea4c"
      },
      "execution_count": null,
      "outputs": [
        {
          "output_type": "stream",
          "name": "stdout",
          "text": [
            "1\n",
            "1\n",
            "1\n",
            "1\n"
          ]
        }
      ]
    },
    {
      "cell_type": "code",
      "source": [
        "def OR1(x1, x2):#2.-x+2y+2>0\n",
        "    x=np.array([x1, x2])\n",
        "    w=np.array([-1, 2])\n",
        "    b=2\n",
        "    temp=np.sum(w*w)+b\n",
        "\n",
        "    if temp>0:\n",
        "        return 1\n",
        "    else:\n",
        "        return 0"
      ],
      "metadata": {
        "id": "rlPpPWQCReOE"
      },
      "execution_count": null,
      "outputs": []
    },
    {
      "cell_type": "code",
      "source": [
        "print(OR1(0,0))\n",
        "print(OR1(1,0))\n",
        "print(OR1(0,1))\n",
        "print(OR1(1,1))"
      ],
      "metadata": {
        "colab": {
          "base_uri": "https://localhost:8080/"
        },
        "id": "LU8VfmFlVPij",
        "outputId": "33a5764a-7c0a-4538-ed8a-8598d003ea3a"
      },
      "execution_count": null,
      "outputs": [
        {
          "output_type": "stream",
          "name": "stdout",
          "text": [
            "1\n",
            "1\n",
            "1\n",
            "1\n"
          ]
        }
      ]
    },
    {
      "cell_type": "code",
      "source": [
        "def NAND2(x1, x2):#3.2x+y-2.5<0\n",
        "    x=np.array([x1, x2])\n",
        "    w=np.array([-2, -1])\n",
        "    b=2.5\n",
        "    temp=np.sum(w*x)+b\n",
        "\n",
        "    if temp>0:\n",
        "          return 1\n",
        "    else:\n",
        "          return 0"
      ],
      "metadata": {
        "id": "E0gsETQ3Vi8o"
      },
      "execution_count": null,
      "outputs": []
    },
    {
      "cell_type": "code",
      "source": [
        "print(NAND2(0,0))\n",
        "print(NAND2(1,0))\n",
        "print(NAND2(0,1))\n",
        "print(NAND2(1,1))"
      ],
      "metadata": {
        "colab": {
          "base_uri": "https://localhost:8080/"
        },
        "id": "Bz0nN-s8XDMz",
        "outputId": "d7f62ce9-73bf-40f0-d750-450a97db3169"
      },
      "execution_count": null,
      "outputs": [
        {
          "output_type": "stream",
          "name": "stdout",
          "text": [
            "1\n",
            "1\n",
            "1\n",
            "0\n"
          ]
        }
      ]
    },
    {
      "cell_type": "code",
      "source": [
        "def OR2(x1, x2):#4.2x+y+1>0\n",
        "    x=np.array([x1, x2])\n",
        "    w=np.array([2, 1])\n",
        "    b=1\n",
        "    temp=np.sum(w*x)+b\n",
        "\n",
        "    if temp>0:\n",
        "        return 1\n",
        "    else:\n",
        "        return 0"
      ],
      "metadata": {
        "id": "_ltCibp_XQmt"
      },
      "execution_count": null,
      "outputs": []
    },
    {
      "cell_type": "code",
      "source": [
        "print(OR2(0,0))\n",
        "print(OR2(1,0))\n",
        "print(OR2(0,1))\n",
        "print(OR2(1,1))"
      ],
      "metadata": {
        "colab": {
          "base_uri": "https://localhost:8080/"
        },
        "id": "V_LQYRIbYUt1",
        "outputId": "1c7da73f-85ee-4568-8aa4-e9d47437c042"
      },
      "execution_count": null,
      "outputs": [
        {
          "output_type": "stream",
          "name": "stdout",
          "text": [
            "1\n",
            "1\n",
            "1\n",
            "1\n"
          ]
        }
      ]
    },
    {
      "cell_type": "code",
      "source": [
        "def XOR1(x1, x2):\n",
        "    y1=OR1(x1, x2)\n",
        "    y2=NAND1(x1, x2)\n",
        "    y3=AND(y1,y2)\n",
        "    return y3"
      ],
      "metadata": {
        "id": "p0h5B37cYrm4"
      },
      "execution_count": null,
      "outputs": []
    },
    {
      "cell_type": "code",
      "source": [
        "print(XOR1(0,0))\n",
        "print(XOR1(1,0))\n",
        "print(XOR1(0,1))\n",
        "print(XOR1(1,1))"
      ],
      "metadata": {
        "colab": {
          "base_uri": "https://localhost:8080/"
        },
        "id": "4M5xW5uwc1sn",
        "outputId": "ac22e2be-e821-43aa-8cba-1cb0da0af917"
      },
      "execution_count": null,
      "outputs": [
        {
          "output_type": "stream",
          "name": "stdout",
          "text": [
            "1\n",
            "1\n",
            "1\n",
            "1\n"
          ]
        }
      ]
    },
    {
      "cell_type": "code",
      "source": [
        "def XOR2(x1, x2):\n",
        "    y1=OR2(x1, x2)\n",
        "    y2=NAND2(x1, x2)\n",
        "    y3=AND(y1,y2)\n",
        "    return y3"
      ],
      "metadata": {
        "id": "djArHOtNq3yY"
      },
      "execution_count": null,
      "outputs": []
    },
    {
      "cell_type": "code",
      "source": [],
      "metadata": {
        "id": "v6dDXBeWrgwM"
      },
      "execution_count": null,
      "outputs": []
    }
  ]
}